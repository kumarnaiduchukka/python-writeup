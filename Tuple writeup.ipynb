{
 "cells": [
  {
   "cell_type": "markdown",
   "id": "b9c95830",
   "metadata": {},
   "source": [
    "## Python Tuples"
   ]
  },
  {
   "cell_type": "markdown",
   "id": "c4ab704e",
   "metadata": {},
   "source": [
    "- Tuples are orderd to collection of data items.they store multiple items ina single variable.\n",
    "- Tuple items are separated by commas and encolsed with round bracket().\n",
    "- Tuples are unchangeable meaning we can not alter them them after creation."
   ]
  },
  {
   "cell_type": "code",
   "execution_count": 4,
   "id": "eb58cc5e",
   "metadata": {},
   "outputs": [
    {
     "name": "stdout",
     "output_type": "stream",
     "text": [
      "<class 'int'>\n",
      "<class 'tuple'>\n"
     ]
    }
   ],
   "source": [
    "tup=(1)\n",
    "print(type(tup))\n",
    "\n",
    "tup1=(1,)            # single number change in to tuple than put commas(1,)\n",
    "print(type(tup1))"
   ]
  },
  {
   "cell_type": "markdown",
   "id": "7416fe66",
   "metadata": {},
   "source": [
    "#### example 1:-"
   ]
  },
  {
   "cell_type": "code",
   "execution_count": 1,
   "id": "ed21288d",
   "metadata": {},
   "outputs": [
    {
     "name": "stdout",
     "output_type": "stream",
     "text": [
      "(1, 2, 2, 3, 4, 5, 6)\n",
      "('red', 'green', 'blue')\n"
     ]
    }
   ],
   "source": [
    "tuple1=(1,2,2,3,4,5,6)\n",
    "tuple2=(\"red\",\"green\",\"blue\")\n",
    "print(tuple1)\n",
    "print(tuple2)"
   ]
  },
  {
   "cell_type": "markdown",
   "id": "95821dcc",
   "metadata": {},
   "source": [
    "#### Example2:-"
   ]
  },
  {
   "cell_type": "code",
   "execution_count": 5,
   "id": "32b291d1",
   "metadata": {},
   "outputs": [
    {
     "name": "stdout",
     "output_type": "stream",
     "text": [
      "('naidu', 20, 'kumar', 2.1)\n"
     ]
    }
   ],
   "source": [
    "details=(\"naidu\",20,\"kumar\",2.1)\n",
    "print(details)"
   ]
  },
  {
   "cell_type": "markdown",
   "id": "f09bb22d",
   "metadata": {},
   "source": [
    "### Tuple indexes"
   ]
  },
  {
   "cell_type": "markdown",
   "id": "f58284aa",
   "metadata": {},
   "source": [
    "- Each item/element in a tuple has its own unique index.\n",
    "- This index can be used to access any particular item from the tuple.\n",
    "- The first item has index[0],second item has index[1],third item has index[2] and so on.\n"
   ]
  },
  {
   "cell_type": "markdown",
   "id": "fada1ec9",
   "metadata": {},
   "source": [
    "##### Example:-"
   ]
  },
  {
   "cell_type": "code",
   "execution_count": null,
   "id": "4330d1bc",
   "metadata": {},
   "outputs": [],
   "source": [
    "states=(\"andhra\",\"Goa\",\"jumma\")\n",
    "          [0]     [1]    [2]"
   ]
  },
  {
   "cell_type": "markdown",
   "id": "aed4aa8c",
   "metadata": {},
   "source": [
    "#### Accesding tuple items:-"
   ]
  },
  {
   "cell_type": "markdown",
   "id": "f8ba061d",
   "metadata": {},
   "source": [
    "  #### positive Indexing:-"
   ]
  },
  {
   "cell_type": "markdown",
   "id": "7e3636f9",
   "metadata": {},
   "source": [
    "- As we have seen the tuple items have a index,as such we can acess items using these indexes."
   ]
  },
  {
   "cell_type": "markdown",
   "id": "add0d7c0",
   "metadata": {},
   "source": [
    "##### Example:-"
   ]
  },
  {
   "cell_type": "code",
   "execution_count": 7,
   "id": "05e8ea3a",
   "metadata": {},
   "outputs": [
    {
     "name": "stdout",
     "output_type": "stream",
     "text": [
      "andhra\n",
      "Goa\n",
      "jumma\n"
     ]
    }
   ],
   "source": [
    "states=(\"andhra\",\"Goa\",\"jumma\")\n",
    "print(states[0])\n",
    "print(states[1])\n",
    "print(states[2])"
   ]
  },
  {
   "cell_type": "markdown",
   "id": "f08a5b8b",
   "metadata": {},
   "source": [
    "#### Negative Indexing:-"
   ]
  },
  {
   "cell_type": "markdown",
   "id": "1e5640dd",
   "metadata": {},
   "source": [
    "- Similar to positive indexing .negative indexing is also used to access items,but from the end of the tuple.\n",
    "- The last item has index[-1],second last item has index[-2],third last item has index[-3] and so on."
   ]
  },
  {
   "cell_type": "markdown",
   "id": "74bc33e6",
   "metadata": {},
   "source": [
    "##### Example:-"
   ]
  },
  {
   "cell_type": "code",
   "execution_count": 8,
   "id": "a3c52da7",
   "metadata": {
    "scrolled": true
   },
   "outputs": [
    {
     "name": "stdout",
     "output_type": "stream",
     "text": [
      "vzm\n",
      "Goa\n",
      "jummu\n"
     ]
    }
   ],
   "source": [
    "states=(\"andhra\",\"Goa\",\"jummu\",\"vskp\",\"vzm\")\n",
    "print(states[-1])     # similar to print(states[len(states)-1])\n",
    "print(states[-4])\n",
    "print(states[-3])"
   ]
  },
  {
   "cell_type": "markdown",
   "id": "89b987ca",
   "metadata": {},
   "source": [
    "## Check for item:-"
   ]
  },
  {
   "cell_type": "markdown",
   "id": "c10428ee",
   "metadata": {},
   "source": [
    "- we can check if a given item is present in the tuple .This is done using the in keyword."
   ]
  },
  {
   "cell_type": "markdown",
   "id": "3d525d0e",
   "metadata": {},
   "source": [
    "##### Example:-"
   ]
  },
  {
   "cell_type": "code",
   "execution_count": 12,
   "id": "142266a3",
   "metadata": {},
   "outputs": [
    {
     "name": "stdout",
     "output_type": "stream",
     "text": [
      "Goa in the tuple statement\n"
     ]
    }
   ],
   "source": [
    "states=(\"andhra\",\"Goa\",\"jummu\",\"vskp\",\"vzm\")\n",
    "if \"Goa\" in states:\n",
    "    print(\"Goa in the tuple statement\")\n",
    "else:\n",
    "    print(\"Goa is  not in tuple statement\")"
   ]
  },
  {
   "cell_type": "markdown",
   "id": "dcc136c5",
   "metadata": {},
   "source": [
    "#####  Example2:-"
   ]
  },
  {
   "cell_type": "code",
   "execution_count": 13,
   "id": "a5400483",
   "metadata": {},
   "outputs": [
    {
     "name": "stdout",
     "output_type": "stream",
     "text": [
      "usa is  not in tuple statement\n"
     ]
    }
   ],
   "source": [
    "states=(\"andhra\",\"Goa\",\"jummu\",\"vskp\",\"vzm\")\n",
    "if \"usa\" in states:\n",
    "    print(\"usa in the tuple statement\")\n",
    "else:\n",
    "    print(\"usa is  not in tuple statement\")"
   ]
  },
  {
   "cell_type": "markdown",
   "id": "f013fd07",
   "metadata": {},
   "source": [
    "## Range of index:-"
   ]
  },
  {
   "cell_type": "markdown",
   "id": "5531173c",
   "metadata": {},
   "source": [
    "- you can print a range of tuple  items by specifying where do you want to start,where do you want to end and if you want to skip the elements in between the range."
   ]
  },
  {
   "cell_type": "markdown",
   "id": "fa85cd9f",
   "metadata": {},
   "source": [
    "##### syntax:-"
   ]
  },
  {
   "cell_type": "markdown",
   "id": "adc53ef9",
   "metadata": {},
   "source": [
    "- tuple[starts: ends : jumpindex]"
   ]
  },
  {
   "cell_type": "markdown",
   "id": "bf08693d",
   "metadata": {},
   "source": [
    "##### Note:-\n",
    "\n",
    "- jump index is optional.We will see this in given example"
   ]
  },
  {
   "cell_type": "markdown",
   "id": "bca6fb38",
   "metadata": {},
   "source": [
    "##### Example:- printing element within a particular range:"
   ]
  },
  {
   "cell_type": "code",
   "execution_count": 22,
   "id": "dda0a616",
   "metadata": {},
   "outputs": [
    {
     "name": "stdout",
     "output_type": "stream",
     "text": [
      "('buffaloo', 'loin', 'tiger', 'hourse')\n",
      "('sheep', 'buffaloo', 'loin', 'tiger', 'hourse')\n"
     ]
    }
   ],
   "source": [
    "animals=(\"cat\",\"cow\",\"sheep\",\"buffaloo\",\"loin\",\"tiger\",\"hourse\",\"pig\",\"man\")\n",
    "print(animals[3:7])         # using positive index\n",
    "print(animals[-7:-2])        # using negative index"
   ]
  },
  {
   "cell_type": "markdown",
   "id": "bdba9d81",
   "metadata": {},
   "source": [
    "- Here,we provideing index of the element from where we want to start and the index of the elements till which we want to print the values. \n",
    "\n",
    "- Note:-\n",
    "    - The elements of the end index provided will not be included."
   ]
  },
  {
   "cell_type": "code",
   "execution_count": 23,
   "id": "faba09d2",
   "metadata": {},
   "outputs": [
    {
     "name": "stdout",
     "output_type": "stream",
     "text": [
      "('loin', 'tiger', 'hourse', 'pig', 'man')\n",
      "('tiger', 'hourse', 'pig', 'man')\n"
     ]
    }
   ],
   "source": [
    "animals=(\"cat\",\"cow\",\"sheep\",\"buffaloo\",\"loin\",\"tiger\",\"hourse\",\"pig\",\"man\")\n",
    "print(animals[4:])        # using positive index\n",
    "print(animals[-4:])        # using negative index"
   ]
  },
  {
   "cell_type": "markdown",
   "id": "e37f5ed9",
   "metadata": {},
   "source": [
    "- When no end index is provided,the interpreter print all the values of the end.\n",
    "\n",
    "##### Example:- printing all the elements from start to given index"
   ]
  },
  {
   "cell_type": "code",
   "execution_count": 28,
   "id": "a55bb03d",
   "metadata": {},
   "outputs": [
    {
     "name": "stdout",
     "output_type": "stream",
     "text": [
      "('cat', 'cow', 'sheep', 'buffaloo', 'loin', 'tiger')\n",
      "('cat', 'cow', 'sheep', 'buffaloo')\n"
     ]
    }
   ],
   "source": [
    "animals=(\"cat\",\"cow\",\"sheep\",\"buffaloo\",\"loin\",\"tiger\",\"hourse\",\"pig\")\n",
    "print(animals[:6])         # using positive index\n",
    "print(animals[:-4])"
   ]
  },
  {
   "cell_type": "markdown",
   "id": "737f010e",
   "metadata": {},
   "source": [
    "- we no starts index is provide,the interpreter prints all the values from the start up to end index provided."
   ]
  },
  {
   "cell_type": "markdown",
   "id": "3c473762",
   "metadata": {},
   "source": [
    "#### example:- print alternate values"
   ]
  },
  {
   "cell_type": "code",
   "execution_count": 33,
   "id": "b1933981",
   "metadata": {},
   "outputs": [
    {
     "name": "stdout",
     "output_type": "stream",
     "text": [
      "('cat', 'sheep', 'loin', 'hourse')\n",
      "('cat', 'sheep', 'loin', 'hourse')\n"
     ]
    }
   ],
   "source": [
    "animals=(\"cat\",\"cow\",\"sheep\",\"buffaloo\",\"loin\",\"tiger\",\"hourse\",\"pig\")\n",
    "print(animals[::2])         # using positive index\n",
    "print(animals[-8:-1:2])"
   ]
  },
  {
   "cell_type": "markdown",
   "id": "0763b523",
   "metadata": {},
   "source": [
    "- Here,we have not provided start and end index,which means all the values will be considered.But as we have provided a jump index of 2 only alternate values will be printed"
   ]
  },
  {
   "cell_type": "markdown",
   "id": "d14c7aaf",
   "metadata": {},
   "source": [
    "##### Example: printed every 3rd convsecutive withing give range"
   ]
  },
  {
   "cell_type": "code",
   "execution_count": 35,
   "id": "a0c05415",
   "metadata": {},
   "outputs": [
    {
     "name": "stdout",
     "output_type": "stream",
     "text": [
      "('cow', 'loin', 'pig')\n"
     ]
    }
   ],
   "source": [
    "animals=(\"cat\",\"cow\",\"sheep\",\"buffaloo\",\"loin\",\"tiger\",\"hourse\",\"pig\")\n",
    "print(animals[1:8:3])         # using positive index"
   ]
  },
  {
   "cell_type": "markdown",
   "id": "08856253",
   "metadata": {},
   "source": [
    "- Here, jump index is 3.Hence it print every 3rd element within given index."
   ]
  },
  {
   "cell_type": "markdown",
   "id": "56f11118",
   "metadata": {},
   "source": [
    "## Mainipulating Tuples:-"
   ]
  },
  {
   "cell_type": "markdown",
   "id": "8e79fe99",
   "metadata": {},
   "source": [
    "- Tuples are inmutable,hence if you want to add,remove or change tuple items,then first you convert the tuple to a list.Then perform operation on that list and convert it back to tuple."
   ]
  },
  {
   "cell_type": "markdown",
   "id": "fce0a9f8",
   "metadata": {},
   "source": [
    "##### Example:-"
   ]
  },
  {
   "cell_type": "code",
   "execution_count": 37,
   "id": "1a26de5e",
   "metadata": {},
   "outputs": [
    {
     "name": "stdout",
     "output_type": "stream",
     "text": [
      "('andhra', 'kerala', 'vskp', 'vzm', 'manipur')\n"
     ]
    }
   ],
   "source": [
    "states=(\"andhra\",\"Goa\",\"jummu\",\"vskp\",\"vzm\")\n",
    "temp=list(states)\n",
    "temp.append(\"manipur\")       # add  item\n",
    "temp.pop(2)                  # remove item\n",
    "temp[1]=\"kerala\"            # change item\n",
    "states=tuple(temp)\n",
    "print(states)"
   ]
  },
  {
   "cell_type": "markdown",
   "id": "e60c3e64",
   "metadata": {},
   "source": [
    "- Thus,we convert tuple to list,mainpulate items of the list using list method,then convert  to the tuple.\n",
    "\n",
    "- However,we can directly concatenate two tuple without  convrting them to list "
   ]
  },
  {
   "cell_type": "markdown",
   "id": "adf0480e",
   "metadata": {},
   "source": [
    "#### Example:-"
   ]
  },
  {
   "cell_type": "code",
   "execution_count": 38,
   "id": "2eeff92d",
   "metadata": {},
   "outputs": [
    {
     "name": "stdout",
     "output_type": "stream",
     "text": [
      "('andhra', 'kerala', 'vskp', 'vzm', 'manipur', 'thiruvanthapuram', 'panaji', 'imphal')\n"
     ]
    }
   ],
   "source": [
    "states=('andhra', 'kerala', 'vskp', 'vzm', 'manipur')\n",
    "states2=(\"thiruvanthapuram\",\"panaji\",\"imphal\")\n",
    "india_states=states+states2\n",
    "print(india_states)"
   ]
  },
  {
   "cell_type": "markdown",
   "id": "a36616e2",
   "metadata": {},
   "source": [
    "### Tuples method:-"
   ]
  },
  {
   "cell_type": "markdown",
   "id": "bc56c7b0",
   "metadata": {},
   "source": [
    "- As tuple are immutable type of collection of elements it have limited bulit in method.They are explained below."
   ]
  },
  {
   "cell_type": "markdown",
   "id": "36956756",
   "metadata": {},
   "source": [
    "#### count() method:-"
   ]
  },
  {
   "cell_type": "markdown",
   "id": "40b052b1",
   "metadata": {},
   "source": [
    "- The count() method of  tuple returns the number of times the given elements appers in the tuple "
   ]
  },
  {
   "cell_type": "markdown",
   "id": "f2be047f",
   "metadata": {},
   "source": [
    "##### syntax:-"
   ]
  },
  {
   "cell_type": "markdown",
   "id": "8b1e5771",
   "metadata": {},
   "source": [
    "- tuple.count(element)"
   ]
  },
  {
   "cell_type": "markdown",
   "id": "f31541c5",
   "metadata": {},
   "source": [
    "###### Example:-"
   ]
  },
  {
   "cell_type": "code",
   "execution_count": 41,
   "id": "3cfe6338",
   "metadata": {},
   "outputs": [
    {
     "name": "stdout",
     "output_type": "stream",
     "text": [
      "count of 2 in the Tuple is : 4\n"
     ]
    }
   ],
   "source": [
    "Tuple=(0,1,2,3,4,2,3,2,1,3,2)\n",
    "num=Tuple.count(2)\n",
    "print(\"count of 2 in the Tuple is :\",num)"
   ]
  },
  {
   "cell_type": "markdown",
   "id": "185673f5",
   "metadata": {},
   "source": [
    "### index() method:-"
   ]
  },
  {
   "cell_type": "markdown",
   "id": "31c53274",
   "metadata": {},
   "source": [
    "- The index() method returns the first occurrence of the given element from the tuple\n",
    "\n",
    "#### syntax:-\n",
    "\n",
    "- tuple.index(element,start,end)\n",
    "\n",
    "#### Note:-\n",
    "\n",
    "- This method raises a valueError if the element is not found in the tuple. \n",
    "   "
   ]
  },
  {
   "cell_type": "markdown",
   "id": "68bf5b33",
   "metadata": {},
   "source": [
    "##### Example:-"
   ]
  },
  {
   "cell_type": "code",
   "execution_count": 44,
   "id": "9acdb976",
   "metadata": {},
   "outputs": [
    {
     "name": "stdout",
     "output_type": "stream",
     "text": [
      "First occurrence of 3 is  3\n"
     ]
    }
   ],
   "source": [
    "Tuple=(0,1,2,3,4,2,3,2,1,3,2)\n",
    "num=Tuple.index(3)\n",
    "print(\"First occurrence of 3 is \",num)"
   ]
  },
  {
   "cell_type": "code",
   "execution_count": 46,
   "id": "1f067117",
   "metadata": {},
   "outputs": [
    {
     "name": "stdout",
     "output_type": "stream",
     "text": [
      "First occurrence of 3 is  6\n"
     ]
    }
   ],
   "source": [
    "Tuple=(0,1,2,3,4,2,3,2,1,3,2)\n",
    "num=Tuple.index(3,4,9)                         # index values(3) ,(4) is a startingindex,(9) is a ending index\n",
    "print(\"First occurrence of 3 is \",num)"
   ]
  },
  {
   "cell_type": "code",
   "execution_count": 47,
   "id": "b3fd8565",
   "metadata": {},
   "outputs": [
    {
     "ename": "ValueError",
     "evalue": "tuple.index(x): x not in tuple",
     "output_type": "error",
     "traceback": [
      "\u001b[1;31m---------------------------------------------------------------------------\u001b[0m",
      "\u001b[1;31mValueError\u001b[0m                                Traceback (most recent call last)",
      "Cell \u001b[1;32mIn[47], line 2\u001b[0m\n\u001b[0;32m      1\u001b[0m Tuple\u001b[38;5;241m=\u001b[39m(\u001b[38;5;241m0\u001b[39m,\u001b[38;5;241m1\u001b[39m,\u001b[38;5;241m2\u001b[39m,\u001b[38;5;241m3\u001b[39m,\u001b[38;5;241m4\u001b[39m,\u001b[38;5;241m2\u001b[39m,\u001b[38;5;241m3\u001b[39m,\u001b[38;5;241m2\u001b[39m,\u001b[38;5;241m1\u001b[39m,\u001b[38;5;241m3\u001b[39m,\u001b[38;5;241m2\u001b[39m)\n\u001b[1;32m----> 2\u001b[0m num\u001b[38;5;241m=\u001b[39mTuple\u001b[38;5;241m.\u001b[39mindex(\u001b[38;5;241m33\u001b[39m)\n\u001b[0;32m      3\u001b[0m \u001b[38;5;28mprint\u001b[39m(\u001b[38;5;124m\"\u001b[39m\u001b[38;5;124mFirst occurrence of 3 is \u001b[39m\u001b[38;5;124m\"\u001b[39m,num)\n",
      "\u001b[1;31mValueError\u001b[0m: tuple.index(x): x not in tuple"
     ]
    }
   ],
   "source": [
    "Tuple=(0,1,2,3,4,2,3,2,1,3,2)\n",
    "num=Tuple.index(33)                     # valueError: not in tuple\n",
    "print(\"First occurrence of 3 is \",num)\n"
   ]
  },
  {
   "cell_type": "markdown",
   "id": "19ed16f4",
   "metadata": {},
   "source": [
    "## Note:-\n",
    "\n",
    "- When you converted it into a \"List\" from a \"Tuple\" then you can make changes "
   ]
  },
  {
   "cell_type": "code",
   "execution_count": null,
   "id": "de53515f",
   "metadata": {},
   "outputs": [],
   "source": []
  }
 ],
 "metadata": {
  "kernelspec": {
   "display_name": "Python 3 (ipykernel)",
   "language": "python",
   "name": "python3"
  },
  "language_info": {
   "codemirror_mode": {
    "name": "ipython",
    "version": 3
   },
   "file_extension": ".py",
   "mimetype": "text/x-python",
   "name": "python",
   "nbconvert_exporter": "python",
   "pygments_lexer": "ipython3",
   "version": "3.11.5"
  }
 },
 "nbformat": 4,
 "nbformat_minor": 5
}
